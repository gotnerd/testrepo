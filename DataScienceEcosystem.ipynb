{
 "cells": [
  {
   "cell_type": "markdown",
   "id": "e3902de0-72cf-46cb-bd11-e949a0f6bbbc",
   "metadata": {
    "tags": []
   },
   "source": [
    "# Data Science Tools and Ecosystem"
   ]
  },
  {
   "cell_type": "markdown",
   "id": "aa8d5e41-211e-429b-bd8c-097feb55af3b",
   "metadata": {},
   "source": [
    "## In this notebook, Data Science Tools and Ecosystem are summarized."
   ]
  },
  {
   "cell_type": "markdown",
   "id": "0eaf9fe0-42e7-45ec-8ad0-ebd959d35073",
   "metadata": {},
   "source": [
    "***Objectives:*** List popular languages for Data Science\n",
    "\n",
    "* Julia\n",
    "* C++\n",
    "* PHP\n",
    "* JavaScript\n"
   ]
  },
  {
   "cell_type": "markdown",
   "id": "47826457-74ce-4323-9eaf-b1ae74e3aa60",
   "metadata": {},
   "source": [
    "### Some of the popular languages that Data Scientists use are:"
   ]
  },
  {
   "cell_type": "markdown",
   "id": "3d3e3e4a-6ebc-42fd-b03b-a98910d34ee8",
   "metadata": {},
   "source": [
    "1. Jupyter\n",
    "2. Python\n",
    "3. R\n",
    "4. Scala\n",
    "5. SQL \n",
    "6. Java"
   ]
  },
  {
   "cell_type": "markdown",
   "id": "283cf9ea-6b25-4e94-8758-75878d813ecb",
   "metadata": {},
   "source": [
    "## Some of the commonly used libraries used by Data Scientists include:"
   ]
  },
  {
   "cell_type": "markdown",
   "id": "bfa82069-6d5e-4ead-b05c-800c0f57975b",
   "metadata": {},
   "source": [
    "1. Pandas\n",
    "2. NumPy\n",
    "3. Matplotlib\n",
    "4. Seaborn\n",
    "5. Sci-kit Learn\n",
    "6. Keras"
   ]
  },
  {
   "cell_type": "markdown",
   "id": "1ae63e0e-4fae-452f-8a50-041703b936d1",
   "metadata": {},
   "source": [
    "| Data Science Tools |\n",
    "| ------------------ |\n",
    "| Jupyter Notebook   |\n",
    "| RStudio            |\n",
    "| PyTorch            |"
   ]
  },
  {
   "cell_type": "markdown",
   "id": "855f19e4-a20e-4a53-b19a-34b4d03f0a09",
   "metadata": {},
   "source": [
    "### Below are a few examples of evaluating arithmetic expressions in Python"
   ]
  },
  {
   "cell_type": "code",
   "execution_count": 2,
   "id": "4624affc-b7f0-4ef5-bdc0-5c34140317cd",
   "metadata": {
    "tags": []
   },
   "outputs": [
    {
     "data": {
      "text/plain": [
       "17"
      ]
     },
     "execution_count": 2,
     "metadata": {},
     "output_type": "execute_result"
    }
   ],
   "source": [
    "#This a simple arithmetic expression to mutiply then add integers\n",
    "\n",
    "(3*4)+5"
   ]
  },
  {
   "cell_type": "code",
   "execution_count": 7,
   "id": "8c1329b2-70e3-40f6-8d1c-c099a23c2f8a",
   "metadata": {
    "tags": []
   },
   "outputs": [
    {
     "data": {
      "text/plain": [
       "3.3333333333333335"
      ]
     },
     "execution_count": 7,
     "metadata": {},
     "output_type": "execute_result"
    }
   ],
   "source": [
    "#This will convert 200 minutes to hours by dividing by 60\n",
    "\n",
    "(200/60)"
   ]
  },
  {
   "cell_type": "markdown",
   "id": "1445e983-06aa-4fd6-bf20-e0acd4cb30d1",
   "metadata": {},
   "source": [
    "## Author\n",
    "\n",
    "### Michael Bonacci"
   ]
  },
  {
   "cell_type": "code",
   "execution_count": null,
   "id": "04540608-6d88-4fad-b5a1-46089f77d14b",
   "metadata": {},
   "outputs": [],
   "source": []
  }
 ],
 "metadata": {
  "kernelspec": {
   "display_name": "Python",
   "language": "python",
   "name": "conda-env-python-py"
  },
  "language_info": {
   "codemirror_mode": {
    "name": "ipython",
    "version": 3
   },
   "file_extension": ".py",
   "mimetype": "text/x-python",
   "name": "python",
   "nbconvert_exporter": "python",
   "pygments_lexer": "ipython3",
   "version": "3.7.12"
  }
 },
 "nbformat": 4,
 "nbformat_minor": 5
}
